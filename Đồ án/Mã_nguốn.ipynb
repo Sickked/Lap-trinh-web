{
  "nbformat": 4,
  "nbformat_minor": 0,
  "metadata": {
    "colab": {
      "provenance": []
    },
    "kernelspec": {
      "name": "python3",
      "display_name": "Python 3"
    },
    "language_info": {
      "name": "python"
    }
  },
  "cells": [
    {
      "cell_type": "code",
      "source": [
        "#Cài đặt các thư viện cho bài\n",
        "import matplotlib\n",
        "from sklearn import linear_model\n",
        "import pandas as pd\n",
        "import numpy as np\n",
        "from pandas import ExcelWriter\n",
        "from pandas import ExcelFile\n",
        "import math\n",
        "from sklearn.metrics import mean_squared_error\n",
        "import matplotlib.pyplot as plt\n",
        "from sklearn.metrics import r2_score\n",
        "import seaborn as sns\n",
        "sns.set_style('darkgrid')"
      ],
      "metadata": {
        "id": "rNFJChSc-54t"
      },
      "execution_count": 2,
      "outputs": []
    },
    {
      "cell_type": "code",
      "source": [
        "#Xuất dữ liệu trong file\n",
        "ILPD = pd.read_excel('/content/drive/MyDrive/Colab Notebooks/data.xlsx', sheet_name='Sheet1')\n",
        "ILPD.head()"
      ],
      "metadata": {
        "id": "a-ZbMZky-7x1"
      },
      "execution_count": null,
      "outputs": []
    },
    {
      "cell_type": "code",
      "source": [
        "#Xuất những điểm cần thiết\n",
        "Y = ILPD ['DIEMTS'].to_numpy()\n",
        "DIEM = ILPD.drop(['HO TEN','DIEMTS','KQ'], axis=1)\n",
        "X = DIEM.to_numpy()\n",
        "DIEM.head()"
      ],
      "metadata": {
        "id": "WP374vUi--IV"
      },
      "execution_count": null,
      "outputs": []
    },
    {
      "cell_type": "code",
      "source": [
        "#Hồi quy tuyến tính\n",
        "model = linear_model.LinearRegression()\n",
        "model.fit(X, Y)"
      ],
      "metadata": {
        "id": "CfQ678rf_AG9"
      },
      "execution_count": null,
      "outputs": []
    },
    {
      "cell_type": "code",
      "source": [
        "#Hệ số\n",
        "print(pd.DataFrame({'Diem: ':DIEM.columns, 'He so':model.coef_}).sort_values(by='He so'))"
      ],
      "metadata": {
        "id": "hquBFJA4_Ua2"
      },
      "execution_count": null,
      "outputs": []
    },
    {
      "cell_type": "code",
      "source": [
        "#Sai số\n",
        "print(model.intercept_)\n",
        "y_pred = model.predict(X)\n",
        "trainScore = math.sqrt(mean_squared_error(y_pred, Y))\n",
        "print(trainScore)\n",
        "print(r2_score(Y, y_pred))\n",
        "x_ax = range(886)"
      ],
      "metadata": {
        "id": "hVhNIJiN_B52"
      },
      "execution_count": null,
      "outputs": []
    },
    {
      "cell_type": "code",
      "source": [
        "#Biểu đồ biểu hiện điểm thực và điểm dự đoán\n",
        "plt.scatter(x_ax, Y, s = 5, color = 'blue', label = 'Điểm thực')\n",
        "plt.plot(x_ax, y_pred, lw = 1.5, color = 'red', label = 'Điểm dự đoán')\n",
        "plt.legend()\n",
        "plt.show()"
      ],
      "metadata": {
        "id": "0DpkAgux_DgF"
      },
      "execution_count": null,
      "outputs": []
    },
    {
      "cell_type": "code",
      "source": [
        "#Biểu đồ thể hiện về điểm Toán\n",
        "plt.scatter(DIEM['TOAN'].values, Y, color = 'blue')\n",
        "plt.scatter(DIEM['TOAN'].values, y_pred, color = 'red')\n",
        "plt.title('Hồi quy tuyến tính')\n",
        "plt.xlabel('Điểm môn Toán')\n",
        "plt.ylabel('Điểm tuyển sinh')\n",
        "plt.show()"
      ],
      "metadata": {
        "id": "m1x783dO_FGt"
      },
      "execution_count": null,
      "outputs": []
    },
    {
      "cell_type": "code",
      "source": [
        "#Biểu đồ thể hiện về điểm Anh\n",
        "plt.scatter(DIEM['ANH'].values, Y, color = 'blue')\n",
        "plt.scatter(DIEM['ANH'].values, y_pred, color = 'red')\n",
        "plt.title('Hồi quy tuyến tính')\n",
        "plt.xlabel('Điểm môn Anh')\n",
        "plt.ylabel('Điểm tuyển sinh')\n",
        "plt.show()"
      ],
      "metadata": {
        "id": "hK1jwElY_G3l"
      },
      "execution_count": null,
      "outputs": []
    },
    {
      "cell_type": "code",
      "source": [
        "#Biểu đồ thể hiện về điểm Văn\n",
        "plt.scatter(DIEM['VAN'].values, Y, color = 'blue')\n",
        "plt.plot(DIEM['VAN'].values, y_pred, color = 'red')\n",
        "plt.title('Hồi quy tuyến tính')\n",
        "plt.xlabel('Điểm môn Văn')\n",
        "plt.ylabel('Điểm tuyển sinh')\n",
        "plt.show()"
      ],
      "metadata": {
        "id": "k2OPYbAT_IvF"
      },
      "execution_count": null,
      "outputs": []
    }
  ]
}