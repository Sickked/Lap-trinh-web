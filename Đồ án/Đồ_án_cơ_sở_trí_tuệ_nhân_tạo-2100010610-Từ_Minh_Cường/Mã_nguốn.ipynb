{
  "cells": [
    {
      "cell_type": "code",
      "execution_count": 2,
      "metadata": {
        "id": "rNFJChSc-54t"
      },
      "outputs": [],
      "source": [
        "#Cài đặt các thư viện cho bài\n",
        "import matplotlib\n",
        "from sklearn import linear_model\n",
        "import pandas as pd\n",
        "import numpy as np\n",
        "from pandas import ExcelWriter\n",
        "from pandas import ExcelFile\n",
        "import math\n",
        "from sklearn.metrics import mean_squared_error\n",
        "import matplotlib.pyplot as plt\n",
        "from sklearn.metrics import r2_score\n",
        "import seaborn as sns\n",
        "sns.set_style('darkgrid')"
      ]
    },
    {
      "cell_type": "code",
      "execution_count": null,
      "metadata": {
        "id": "a-ZbMZky-7x1"
      },
      "outputs": [],
      "source": [
        "#Xuất dữ liệu trong file\n",
        "ILPD = pd.read_excel('/content/drive/MyDrive/Colab Notebooks/data.xlsx', sheet_name='Sheet1')\n",
        "ILPD.head()"
      ]
    },
    {
      "cell_type": "code",
      "execution_count": null,
      "metadata": {
        "id": "WP374vUi--IV"
      },
      "outputs": [],
      "source": [
        "#Xuất những điểm cần thiết\n",
        "Y = ILPD ['DIEMTS'].to_numpy()\n",
        "DIEM = ILPD.drop(['HO TEN','DIEMTS','KQ','LY','HOA','SINH','CN','SU','DIA','GDCD','TIN'], axis=1)\n",
        "X = DIEM.to_numpy()\n",
        "DIEM.head()"
      ]
    },
    {
      "cell_type": "code",
      "execution_count": null,
      "metadata": {
        "id": "CfQ678rf_AG9"
      },
      "outputs": [],
      "source": [
        "#Hồi quy tuyến tính\n",
        "model = linear_model.LinearRegression()\n",
        "model.fit(X, Y)"
      ]
    },
    {
      "cell_type": "code",
      "execution_count": null,
      "metadata": {
        "id": "hquBFJA4_Ua2"
      },
      "outputs": [],
      "source": [
        "#Hệ số\n",
        "print(pd.DataFrame({'Diem: ':DIEM.columns, 'He so':model.coef_}).sort_values(by='He so'))"
      ]
    },
    {
      "cell_type": "code",
      "execution_count": null,
      "metadata": {
        "id": "hVhNIJiN_B52"
      },
      "outputs": [],
      "source": [
        "#Sai số\n",
        "print(model.intercept_)\n",
        "y_pred = model.predict(X)\n",
        "trainScore = math.sqrt(mean_squared_error(y_pred, Y))\n",
        "print(trainScore)\n",
        "print(r2_score(Y, y_pred))\n",
        "x_ax = range(886)"
      ]
    },
    {
      "cell_type": "code",
      "execution_count": null,
      "metadata": {
        "id": "0DpkAgux_DgF"
      },
      "outputs": [],
      "source": [
        "#Biểu đồ biểu hiện điểm thực và điểm dự đoán\n",
        "plt.scatter(x_ax, Y, s = 5, color = 'blue', label = 'Điểm thực')\n",
        "plt.plot(x_ax, y_pred, lw = 1.5, color = 'red', label = 'Điểm dự đoán')\n",
        "plt.legend()\n",
        "plt.show()"
      ]
    },
    {
      "cell_type": "code",
      "execution_count": null,
      "metadata": {
        "id": "m1x783dO_FGt"
      },
      "outputs": [],
      "source": [
        "#Biểu đồ thể hiện về điểm Toán\n",
        "plt.scatter(DIEM['TOAN'].values, Y, color = 'blue')\n",
        "plt.scatter(DIEM['TOAN'].values, y_pred, color = 'red')\n",
        "plt.title('Hồi quy tuyến tính')\n",
        "plt.xlabel('Điểm môn Toán')\n",
        "plt.ylabel('Điểm tuyển sinh')\n",
        "plt.show()"
      ]
    },
    {
      "cell_type": "code",
      "execution_count": null,
      "metadata": {
        "id": "hK1jwElY_G3l"
      },
      "outputs": [],
      "source": [
        "#Biểu đồ thể hiện về điểm Anh\n",
        "plt.scatter(DIEM['ANH'].values, Y, color = 'blue')\n",
        "plt.scatter(DIEM['ANH'].values, y_pred, color = 'red')\n",
        "plt.title('Hồi quy tuyến tính')\n",
        "plt.xlabel('Điểm môn Anh')\n",
        "plt.ylabel('Điểm tuyển sinh')\n",
        "plt.show()"
      ]
    },
    {
      "cell_type": "code",
      "execution_count": null,
      "metadata": {
        "id": "k2OPYbAT_IvF"
      },
      "outputs": [],
      "source": [
        "#Biểu đồ thể hiện về điểm Văn\n",
        "plt.scatter(DIEM['VAN'].values, Y, color = 'blue')\n",
        "plt.plot(DIEM['VAN'].values, y_pred, color = 'red')\n",
        "plt.title('Hồi quy tuyến tính')\n",
        "plt.xlabel('Điểm môn Văn')\n",
        "plt.ylabel('Điểm tuyển sinh')\n",
        "plt.show()"
      ]
    }
  ],
  "metadata": {
    "colab": {
      "provenance": []
    },
    "kernelspec": {
      "display_name": "Python 3",
      "name": "python3"
    },
    "language_info": {
      "name": "python"
    }
  },
  "nbformat": 4,
  "nbformat_minor": 0
}
